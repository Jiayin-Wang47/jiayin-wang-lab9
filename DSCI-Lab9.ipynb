{
 "cells": [
  {
   "cell_type": "markdown",
   "metadata": {
    "collapsed": true,
    "pycharm": {
     "is_executing": false,
     "name": "#%% md\n"
    }
   },
   "source": [
    "Lab 9\n",
    "---\n",
    "Hello All,\n",
    "\n",
    "I am Dhrumil Soni, the CP of the course DSCI 510. Welcome to the lab.\n",
    "\n",
    "Guidelines for the Lab:\n",
    "- You will be given the lab assignment in the start of the lab. You're supposed to complete it by the deadline stated on DEN. Should be usually on Friday Midnight.  \n",
    "\n",
    "- You've to complete the assignments individually. If you are having trouble completing the assignment do let me know, I will clear your doubts and guide you but I'll not write code for you and no one else should :) !!!  \n",
    "\n",
    "- You have to fill in the code to this notebook and upload it to your repository. And simply, submit the link to the repo (which has all the lab submissions inside it). I know the link would be same over the submissions, but it's a simple way to map you on DEN and Github. Also, the jupyter notebook file name has to be in the form '(First name)-(Last name)-lab(Lab Number)'. All characters in lowercase. For example, first lab for me would be 'dhrumil-soni-lab1'  \n",
    "\n",
    "- You are encouraged to look up resources online like python docs and stackoverflow. But, you are encouraged to look up the topics and not the questions themselves  \n",
    "\n",
    "- Your last submission will be counted towards your grade on DEN and do not edit the repository after the deadline  "
   ]
  },
  {
   "cell_type": "markdown",
   "metadata": {},
   "source": [
    "Today, we are going to write some queries in order to create and manipulate tables.  \n",
    "\n",
    "Info about sqlite python module: https://docs.python.org/3/library/sqlite3.html  "
   ]
  },
  {
   "cell_type": "markdown",
   "metadata": {},
   "source": [
    "For executing queries, this is the lifecycle that you'll follow:  \n",
    "1. import the library `sqlite3`  \n",
    "2. Create a connection to the database using `sqlite3.connect()`  \n",
    "3. Create a cursor from the connection object we just created  \n",
    "4. Execute queries to the database using the cursor object and the execute function.  \n",
    "5. Lastly, make sure to commit and close the connection. (Likely to face problems if you forget this. In the worst case, try to restart the kernel.) "
   ]
  },
  {
   "cell_type": "markdown",
   "metadata": {},
   "source": [
    "[5 points]\n",
    "---\n",
    "\n",
    "Let's first create a connection. You would have to fill the function below to connect to the database and create a cursor.  \n",
    "\n",
    "`Database name: Lab9.db`\n",
    "\n",
    "This function should return a tuple of connection and cursor, so that it could be used in further calls. \n"
   ]
  },
  {
   "cell_type": "code",
   "execution_count": 1,
   "metadata": {},
   "outputs": [],
   "source": [
    "import sqlite3\n",
    "\n",
    "def create_connection():\n",
    "    \n",
    "    conn = sqlite3.connect(\"Lab9.db\")\n",
    "    cur = conn.cursor()\n",
    "    \n",
    "    return conn, cur"
   ]
  },
  {
   "cell_type": "markdown",
   "metadata": {},
   "source": [
    "Now, Let's look at the ```create table``` and ```insert into``` queries.  \n",
    "\n",
    "#### Query to create a table\n",
    "Query => `CREATE TABLE <table_name> (<column_name> <type>, <column_name> <type>, <column_name> <type>,...)`  \n",
    "This creates a table with name and columns provided. Each column has a associated type to it as mentioned above.  \n",
    "\n",
    "\n",
    "#### Query to insert into the table\n",
    "Query => `INSERT INTO <table_name> values (<value>, <value>, <value>, ...)`  \n",
    "This inserts into the table with name and the values provided. "
   ]
  },
  {
   "cell_type": "markdown",
   "metadata": {},
   "source": [
    "[10 points]\n",
    "---\n",
    "\n",
    "Now, fill the function below to create a table. You can use the execute function from the cursor to call queries. No return/print  is required for this function.  \n",
    "\n",
    "Don't forget about point 5. mentioned before. \n",
    "\n",
    "#### Properties of the table:\n",
    "```\n",
    "Table name: sample_table\n",
    "Columns: (name(text), age(integer), address(text))\n",
    "First two rows:\n",
    "    ('sherlock holmes', 33, '221 B Baker street')  \n",
    "    ('harry potter', 45, 'station 9 3/4, london')  \n",
    "```\n",
    "\n",
    "Note 1: You may want to drop the table before you create it.  \n",
    "Note 2: Use the `create_connection()` that you created before. "
   ]
  },
  {
   "cell_type": "code",
   "execution_count": 2,
   "metadata": {},
   "outputs": [],
   "source": [
    "def sample_data():\n",
    "    \n",
    "    conn, cur = create_connection()\n",
    "    \n",
    "    cur.execute('DROP TABLE IF EXISTS sample_table ')\n",
    "    cur.execute('CREATE TABLE sample_table (name TEXT, age INTEGER, address TEXT)')\n",
    "    cur.execute('INSERT INTO sample_table VALUES(\"sherlock holmes\", 33, \"221 B Baker street\")')\n",
    "    cur.execute('INSERT INTO sample_table VALUES(\"harry potter\", 45, \"station 9 3/4, london\")')\n",
    "    \n",
    "sample_data()"
   ]
  },
  {
   "cell_type": "markdown",
   "metadata": {},
   "source": [
    "Now, let's look at some SQL query examples before we go ahead. Read the comments carefully.  \n",
    "\n",
    "If the first query doesn't work, the above function would probably be faulty. "
   ]
  },
  {
   "cell_type": "code",
   "execution_count": null,
   "metadata": {},
   "outputs": [],
   "source": [
    "# Examples\n",
    "\n",
    "# creating connection again\n",
    "conn, cur = create_connection()\n",
    "\n",
    "# Get all the entries in the sample_table\n",
    "\n",
    "# * here represents that all columns in the table are selected\n",
    "# Namely, name, age and address in our example\n",
    "cur.execute('SELECT * FROM sample_table')\n",
    "# This queries result are stored in inside the cursor object. \n",
    "# Try to look at dir(cur) to see how to retrieve results. \n",
    "# One simple way to do this is fetchall()\n",
    "# This would return a list of tuples where each tuple is a row of our table with tuple values that are stored in our database\n",
    "print(cur.fetchall())\n",
    "\n",
    "# Let's look at a few more queries before we take off :)\n",
    "# Get all rows where the age column's value is 33\n",
    "cur.execute('SELECT * FROM sample_table WHERE age=33')\n",
    "print(cur.fetchall())\n",
    "\n",
    "# Get all rows where the age is greater than 35 and less than 50. (You can also use BETWEEN here.) \n",
    "cur.execute('SELECT * FROM sample_table WHERE age>35 AND age<50')\n",
    "print(cur.fetchall())\n",
    "\n",
    "# Get all rows with the name sherlock holmes. Select only the address and not other columns.\n",
    "cur.execute('SELECT address FROM sample_table WHERE name=\\'sherlock holmes\\'')\n",
    "print(cur.fetchall())\n",
    "\n",
    "# You can also update the entries\n",
    "# Update sherlock's age to be 34\n",
    "cur.execute('UPDATE sample_table set age=34 where name=\\'sherlock holmes\\'')\n",
    "cur.execute('SELECT * FROM sample_table')\n",
    "print(cur.fetchall())\n",
    "\n",
    "conn.commit()\n",
    "conn.close()\n",
    "\n",
    "# Also, I suggest you all to look at this website and go through it to get yourself more familiar with SQL queries\n",
    "# https://www.w3schools.com/sql/"
   ]
  },
  {
   "cell_type": "markdown",
   "metadata": {},
   "source": [
    "In the below cell, I have provided the code to create a database for the file titanic.csv. Before moving to the next question, please inspect the table's columns and data types.\n",
    "\n",
    "Notice, how we can now use BonusLab's code to parse and create database. It is now imported from a file named Lab6code. Feel free to check it out. "
   ]
  },
  {
   "cell_type": "code",
   "execution_count": 3,
   "metadata": {},
   "outputs": [],
   "source": [
    "import Lab6code\n",
    "\n",
    "def create_titanic_dataset():\n",
    "\n",
    "    conn, cur = create_connection()\n",
    "    dataset = Lab6code.csv_dataset('titanic.csv', ',')\n",
    "    cur.execute('DROP TABLE IF EXISTS titanic_dataset')\n",
    "    cur.execute('''CREATE TABLE titanic_dataset \n",
    "                (PassengerId integer primary key, Survived integer, Pclass integer, Name text,Sex text, Age integer,Ticket text,Fare real)''')\n",
    "\n",
    "    for i in range(1, dataset.__len__()):\n",
    "        item = dataset.__get_item__(i)\n",
    "        cur.execute(\"INSERT INTO titanic_dataset VALUES (?, ?, ?, ?, ?, ?, ?, ?)\", item)\n",
    "\n",
    "    conn.commit()\n",
    "    conn.close()\n",
    "\n",
    "create_titanic_dataset()"
   ]
  },
  {
   "cell_type": "markdown",
   "metadata": {},
   "source": [
    "Q2.[15 points] \n",
    "---\n",
    "For this question, you have to write queries on the `titanic_dataset` for the following questions and print the output for them.  \n",
    "1. Get all rows of data where Pclass is 1  \n",
    "2. Get information of all females who survived  \n",
    "3. Get information of people who did not survive and were below 25 years of age. Order your output by age in ascending order  \n",
    "\n",
    "\n",
    "Bonus Q.[5 points]\n",
    "---\n",
    "4. Update all fares with value 0 to the average of the fares without 0.\n",
    "\n"
   ]
  },
  {
   "cell_type": "code",
   "execution_count": null,
   "metadata": {},
   "outputs": [],
   "source": [
    "# Query 1\n",
    "print('Query 1 output')\n",
    "# Write code here\n",
    "conn, cur = create_connection()\n",
    "cur.execute('SELECT * FROM titanic_dataset WHERE Pclass=1')\n",
    "print(cur.fetchall())"
   ]
  },
  {
   "cell_type": "code",
   "execution_count": null,
   "metadata": {},
   "outputs": [],
   "source": [
    "# Query 2\n",
    "print('Query 2 output')\n",
    "# Write code here\n",
    "cur.execute('SELECT * FROM titanic_dataset WHERE Survived=1 and Sex=\\'female\\'')\n",
    "print(cur.fetchall())"
   ]
  },
  {
   "cell_type": "code",
   "execution_count": null,
   "metadata": {},
   "outputs": [],
   "source": [
    "# Query 3\n",
    "print('Query 3 output')\n",
    "# Write code here\n",
    "cur.execute('SELECT * FROM titanic_dataset WHERE Survived=0 AND Age<25 ORDER BY Age')\n",
    "print(cur.fetchall())"
   ]
  },
  {
   "cell_type": "code",
   "execution_count": null,
   "metadata": {},
   "outputs": [],
   "source": [
    "# Query 4\n",
    "print('Query 4 output')\n",
    "# Write code here\n"
   ]
  }
 ],
 "metadata": {
  "kernelspec": {
   "display_name": "Python 3",
   "language": "python",
   "name": "python3"
  },
  "language_info": {
   "codemirror_mode": {
    "name": "ipython",
    "version": 3
   },
   "file_extension": ".py",
   "mimetype": "text/x-python",
   "name": "python",
   "nbconvert_exporter": "python",
   "pygments_lexer": "ipython3",
   "version": "3.8.3"
  },
  "pycharm": {
   "stem_cell": {
    "cell_type": "raw",
    "metadata": {
     "collapsed": false
    },
    "source": []
   }
  }
 },
 "nbformat": 4,
 "nbformat_minor": 1
}
